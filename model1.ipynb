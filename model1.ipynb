{
  "cells": [
    {
      "cell_type": "markdown",
      "metadata": {
        "id": "view-in-github",
        "colab_type": "text"
      },
      "source": [
        "<a href=\"https://colab.research.google.com/github/nakahara11/improve_model/blob/main/model1.ipynb\" target=\"_parent\"><img src=\"https://colab.research.google.com/assets/colab-badge.svg\" alt=\"Open In Colab\"/></a>"
      ]
    },
    {
      "cell_type": "code",
      "execution_count": 1,
      "id": "wtQvBEsU8Hu0",
      "metadata": {
        "colab": {
          "base_uri": "https://localhost:8080/",
          "height": 76
        },
        "id": "wtQvBEsU8Hu0",
        "outputId": "263a3561-1a16-4205-ee93-62effa6b9076"
      },
      "outputs": [
        {
          "output_type": "display_data",
          "data": {
            "text/plain": [
              "<IPython.core.display.HTML object>"
            ],
            "text/html": [
              "\n",
              "     <input type=\"file\" id=\"files-4a6fe85c-775e-4b88-9489-d22605040546\" name=\"files[]\" multiple disabled\n",
              "        style=\"border:none\" />\n",
              "     <output id=\"result-4a6fe85c-775e-4b88-9489-d22605040546\">\n",
              "      Upload widget is only available when the cell has been executed in the\n",
              "      current browser session. Please rerun this cell to enable.\n",
              "      </output>\n",
              "      <script>// Copyright 2017 Google LLC\n",
              "//\n",
              "// Licensed under the Apache License, Version 2.0 (the \"License\");\n",
              "// you may not use this file except in compliance with the License.\n",
              "// You may obtain a copy of the License at\n",
              "//\n",
              "//      http://www.apache.org/licenses/LICENSE-2.0\n",
              "//\n",
              "// Unless required by applicable law or agreed to in writing, software\n",
              "// distributed under the License is distributed on an \"AS IS\" BASIS,\n",
              "// WITHOUT WARRANTIES OR CONDITIONS OF ANY KIND, either express or implied.\n",
              "// See the License for the specific language governing permissions and\n",
              "// limitations under the License.\n",
              "\n",
              "/**\n",
              " * @fileoverview Helpers for google.colab Python module.\n",
              " */\n",
              "(function(scope) {\n",
              "function span(text, styleAttributes = {}) {\n",
              "  const element = document.createElement('span');\n",
              "  element.textContent = text;\n",
              "  for (const key of Object.keys(styleAttributes)) {\n",
              "    element.style[key] = styleAttributes[key];\n",
              "  }\n",
              "  return element;\n",
              "}\n",
              "\n",
              "// Max number of bytes which will be uploaded at a time.\n",
              "const MAX_PAYLOAD_SIZE = 100 * 1024;\n",
              "\n",
              "function _uploadFiles(inputId, outputId) {\n",
              "  const steps = uploadFilesStep(inputId, outputId);\n",
              "  const outputElement = document.getElementById(outputId);\n",
              "  // Cache steps on the outputElement to make it available for the next call\n",
              "  // to uploadFilesContinue from Python.\n",
              "  outputElement.steps = steps;\n",
              "\n",
              "  return _uploadFilesContinue(outputId);\n",
              "}\n",
              "\n",
              "// This is roughly an async generator (not supported in the browser yet),\n",
              "// where there are multiple asynchronous steps and the Python side is going\n",
              "// to poll for completion of each step.\n",
              "// This uses a Promise to block the python side on completion of each step,\n",
              "// then passes the result of the previous step as the input to the next step.\n",
              "function _uploadFilesContinue(outputId) {\n",
              "  const outputElement = document.getElementById(outputId);\n",
              "  const steps = outputElement.steps;\n",
              "\n",
              "  const next = steps.next(outputElement.lastPromiseValue);\n",
              "  return Promise.resolve(next.value.promise).then((value) => {\n",
              "    // Cache the last promise value to make it available to the next\n",
              "    // step of the generator.\n",
              "    outputElement.lastPromiseValue = value;\n",
              "    return next.value.response;\n",
              "  });\n",
              "}\n",
              "\n",
              "/**\n",
              " * Generator function which is called between each async step of the upload\n",
              " * process.\n",
              " * @param {string} inputId Element ID of the input file picker element.\n",
              " * @param {string} outputId Element ID of the output display.\n",
              " * @return {!Iterable<!Object>} Iterable of next steps.\n",
              " */\n",
              "function* uploadFilesStep(inputId, outputId) {\n",
              "  const inputElement = document.getElementById(inputId);\n",
              "  inputElement.disabled = false;\n",
              "\n",
              "  const outputElement = document.getElementById(outputId);\n",
              "  outputElement.innerHTML = '';\n",
              "\n",
              "  const pickedPromise = new Promise((resolve) => {\n",
              "    inputElement.addEventListener('change', (e) => {\n",
              "      resolve(e.target.files);\n",
              "    });\n",
              "  });\n",
              "\n",
              "  const cancel = document.createElement('button');\n",
              "  inputElement.parentElement.appendChild(cancel);\n",
              "  cancel.textContent = 'Cancel upload';\n",
              "  const cancelPromise = new Promise((resolve) => {\n",
              "    cancel.onclick = () => {\n",
              "      resolve(null);\n",
              "    };\n",
              "  });\n",
              "\n",
              "  // Wait for the user to pick the files.\n",
              "  const files = yield {\n",
              "    promise: Promise.race([pickedPromise, cancelPromise]),\n",
              "    response: {\n",
              "      action: 'starting',\n",
              "    }\n",
              "  };\n",
              "\n",
              "  cancel.remove();\n",
              "\n",
              "  // Disable the input element since further picks are not allowed.\n",
              "  inputElement.disabled = true;\n",
              "\n",
              "  if (!files) {\n",
              "    return {\n",
              "      response: {\n",
              "        action: 'complete',\n",
              "      }\n",
              "    };\n",
              "  }\n",
              "\n",
              "  for (const file of files) {\n",
              "    const li = document.createElement('li');\n",
              "    li.append(span(file.name, {fontWeight: 'bold'}));\n",
              "    li.append(span(\n",
              "        `(${file.type || 'n/a'}) - ${file.size} bytes, ` +\n",
              "        `last modified: ${\n",
              "            file.lastModifiedDate ? file.lastModifiedDate.toLocaleDateString() :\n",
              "                                    'n/a'} - `));\n",
              "    const percent = span('0% done');\n",
              "    li.appendChild(percent);\n",
              "\n",
              "    outputElement.appendChild(li);\n",
              "\n",
              "    const fileDataPromise = new Promise((resolve) => {\n",
              "      const reader = new FileReader();\n",
              "      reader.onload = (e) => {\n",
              "        resolve(e.target.result);\n",
              "      };\n",
              "      reader.readAsArrayBuffer(file);\n",
              "    });\n",
              "    // Wait for the data to be ready.\n",
              "    let fileData = yield {\n",
              "      promise: fileDataPromise,\n",
              "      response: {\n",
              "        action: 'continue',\n",
              "      }\n",
              "    };\n",
              "\n",
              "    // Use a chunked sending to avoid message size limits. See b/62115660.\n",
              "    let position = 0;\n",
              "    do {\n",
              "      const length = Math.min(fileData.byteLength - position, MAX_PAYLOAD_SIZE);\n",
              "      const chunk = new Uint8Array(fileData, position, length);\n",
              "      position += length;\n",
              "\n",
              "      const base64 = btoa(String.fromCharCode.apply(null, chunk));\n",
              "      yield {\n",
              "        response: {\n",
              "          action: 'append',\n",
              "          file: file.name,\n",
              "          data: base64,\n",
              "        },\n",
              "      };\n",
              "\n",
              "      let percentDone = fileData.byteLength === 0 ?\n",
              "          100 :\n",
              "          Math.round((position / fileData.byteLength) * 100);\n",
              "      percent.textContent = `${percentDone}% done`;\n",
              "\n",
              "    } while (position < fileData.byteLength);\n",
              "  }\n",
              "\n",
              "  // All done.\n",
              "  yield {\n",
              "    response: {\n",
              "      action: 'complete',\n",
              "    }\n",
              "  };\n",
              "}\n",
              "\n",
              "scope.google = scope.google || {};\n",
              "scope.google.colab = scope.google.colab || {};\n",
              "scope.google.colab._files = {\n",
              "  _uploadFiles,\n",
              "  _uploadFilesContinue,\n",
              "};\n",
              "})(self);\n",
              "</script> "
            ]
          },
          "metadata": {}
        },
        {
          "output_type": "stream",
          "name": "stdout",
          "text": [
            "Saving archive_improved.zip to archive_improved.zip\n"
          ]
        }
      ],
      "source": [
        "from google.colab import files\n",
        "import zipfile\n",
        "import os\n",
        "\n",
        "# ローカルの zip ファイルをアップロード\n",
        "uploaded = files.upload()  # ここで PC のファイル選択ウィンドウが出る\n",
        "\n",
        "# zipファイル名を取得（1個だけアップした想定）\n",
        "zip_filename = list(uploaded.keys())[0]\n",
        "\n",
        "# 解凍\n",
        "with zipfile.ZipFile(zip_filename, 'r') as zip_ref:\n",
        "    zip_ref.extractall('/content/data')\n",
        "\n",
        "# 解凍先のパスをデータフォルダ\n",
        "data_dir = '/content/data'  # ここに /battery, /plastic などがある前提\n"
      ]
    },
    {
      "cell_type": "code",
      "execution_count": 2,
      "id": "tM68WseP_K_h",
      "metadata": {
        "id": "tM68WseP_K_h"
      },
      "outputs": [],
      "source": [
        "data_dir = '/content/data'"
      ]
    },
    {
      "cell_type": "code",
      "execution_count": 3,
      "id": "a439ff3e",
      "metadata": {
        "colab": {
          "base_uri": "https://localhost:8080/"
        },
        "id": "a439ff3e",
        "outputId": "e472b98c-6ab6-4f96-dcda-ecf3bc569430"
      },
      "outputs": [
        {
          "output_type": "stream",
          "name": "stdout",
          "text": [
            "✔ ① ライブラリのインポート完了\n"
          ]
        }
      ],
      "source": [
        "# ✅ ① 必要なライブラリのインポート\n",
        "import os\n",
        "import numpy as np\n",
        "from PIL import Image\n",
        "import matplotlib.pyplot as plt\n",
        "import seaborn as sns\n",
        "from sklearn.model_selection import train_test_split\n",
        "from sklearn.metrics import classification_report, confusion_matrix\n",
        "import tensorflow as tf\n",
        "from tensorflow import keras\n",
        "import json\n",
        "\n",
        "print(\"✔ ① ライブラリのインポート完了\")"
      ]
    },
    {
      "cell_type": "code",
      "execution_count": 4,
      "id": "1e6ffa72",
      "metadata": {
        "colab": {
          "base_uri": "https://localhost:8080/"
        },
        "id": "1e6ffa72",
        "outputId": "6516efdf-4ca3-4eeb-c183-49f1fdac19d1"
      },
      "outputs": [
        {
          "output_type": "stream",
          "name": "stdout",
          "text": [
            "📁 存在チェック: True\n",
            "📂 中身:\n",
            "['battery', 'metal', 'organic', 'paper', 'plastic', 'glass']\n"
          ]
        }
      ],
      "source": [
        "import os\n",
        "\n",
        "# パスの存在チェック\n",
        "print(\"📁 存在チェック:\", os.path.exists('/content/data'))\n",
        "\n",
        "# フォルダの中身を表示\n",
        "if os.path.exists('/content/data'):\n",
        "    print(\"📂 中身:\")\n",
        "    print(os.listdir('/content/data'))\n",
        "else:\n",
        "    print(\"❌ パスが見つかりません\")\n"
      ]
    },
    {
      "cell_type": "code",
      "execution_count": 7,
      "id": "Quq-z8r0UsuR",
      "metadata": {
        "colab": {
          "base_uri": "https://localhost:8080/"
        },
        "id": "Quq-z8r0UsuR",
        "outputId": "7f169d7c-1b99-4957-be98-a3339aa5c0a0"
      },
      "outputs": [
        {
          "output_type": "stream",
          "name": "stdout",
          "text": [
            "OK!\n"
          ]
        }
      ],
      "source": [
        "from torchvision.datasets import ImageFolder\n",
        "from torchvision import transforms\n",
        "from torch.utils.data import DataLoader\n",
        "\n",
        "# 前処理\n",
        "transform = transforms.Compose([\n",
        "    transforms.Resize((128, 128)),\n",
        "    transforms.ToTensor()\n",
        "])\n",
        "\n",
        "# データセット作成\n",
        "train_dataset = ImageFolder(root=data_dir, transform=transform)\n",
        "\n",
        "# データローダー\n",
        "train_loader = DataLoader(train_dataset, batch_size=32, shuffle=True)\n",
        "\n",
        "print(\"OK!\")"
      ]
    },
    {
      "cell_type": "code",
      "execution_count": 8,
      "id": "AQd2ZmlTPcBo",
      "metadata": {
        "colab": {
          "base_uri": "https://localhost:8080/"
        },
        "id": "AQd2ZmlTPcBo",
        "outputId": "97c141a4-54ed-478f-e57d-405f3d389d65"
      },
      "outputs": [
        {
          "output_type": "stream",
          "name": "stdout",
          "text": [
            "✔ ② ヘルパー関数の定義完了\n"
          ]
        }
      ],
      "source": [
        "# ✅ ② ヘルパー関数（画像読み込み、モデル定義など）\n",
        "def load_images_from_folder(folder_path, img_size=(64, 64), target_classes=None):\n",
        "    images = []\n",
        "    labels = []\n",
        "    class_names = []\n",
        "\n",
        "    sorted_subfolders = sorted(os.listdir(folder_path))\n",
        "    for class_name in sorted_subfolders:\n",
        "        if target_classes and class_name not in target_classes:\n",
        "            continue\n",
        "\n",
        "        class_path = os.path.join(folder_path, class_name)\n",
        "        if os.path.isdir(class_path):\n",
        "            if class_name not in class_names:\n",
        "                class_names.append(class_name)\n",
        "            label_index = class_names.index(class_name)\n",
        "            print(f\"読み込み中: {class_name}\")\n",
        "\n",
        "            for img_name in os.listdir(class_path):\n",
        "                if img_name.lower().endswith(('.png', '.jpg', '.jpeg')):\n",
        "                    try:\n",
        "                        img_path = os.path.join(class_path, img_name)\n",
        "                        img = Image.open(img_path).convert('RGB')\n",
        "                        img = img.resize(img_size)\n",
        "                        img_array = np.array(img) / 255.0\n",
        "                        images.append(img_array)\n",
        "                        labels.append(label_index)\n",
        "                    except Exception as e:\n",
        "                        print(f\"⚠️ 読み込み失敗: {img_path}, エラー: {e}\")\n",
        "\n",
        "    if not images:\n",
        "        raise ValueError(\"画像が読み込めませんでした\")\n",
        "\n",
        "    return np.array(images), np.array(labels), class_names\n",
        "\n",
        "def create_simple_model(input_shape=(64, 64, 3), num_classes=6):\n",
        "    model = keras.Sequential([\n",
        "        keras.layers.Conv2D(32, (3, 3), activation='relu', input_shape=input_shape),\n",
        "        keras.layers.MaxPooling2D((2, 2)),\n",
        "        keras.layers.Conv2D(64, (3, 3), activation='relu'),\n",
        "        keras.layers.MaxPooling2D((2, 2)),\n",
        "        keras.layers.Flatten(),\n",
        "        keras.layers.Dense(64, activation='relu'),\n",
        "        keras.layers.Dense(num_classes, activation='softmax')\n",
        "    ])\n",
        "    return model\n",
        "\n",
        "def plot_training_history(history):\n",
        "    plt.figure(figsize=(12, 4))\n",
        "    plt.subplot(1, 2, 1)\n",
        "    plt.plot(history.history['accuracy'], label='Training Accuracy')\n",
        "    plt.plot(history.history['val_accuracy'], label='Validation Accuracy')\n",
        "    plt.title('Training and Validation Accuracy')\n",
        "    plt.xlabel('Epoch')\n",
        "    plt.ylabel('Accuracy')\n",
        "    plt.legend()\n",
        "    plt.grid(True)\n",
        "\n",
        "    plt.subplot(1, 2, 2)\n",
        "    plt.plot(history.history['loss'], label='Training Loss')\n",
        "    plt.plot(history.history['val_loss'], label='Validation Loss')\n",
        "    plt.title('Training and Validation Loss')\n",
        "    plt.xlabel('Epoch')\n",
        "    plt.ylabel('Loss')\n",
        "    plt.legend()\n",
        "    plt.grid(True)\n",
        "\n",
        "    plt.tight_layout()\n",
        "    plt.show()\n",
        "\n",
        "def plot_confusion_matrix(y_true, y_pred_classes, class_names):\n",
        "    cm = confusion_matrix(y_true, y_pred_classes)\n",
        "    plt.figure(figsize=(8, 7))\n",
        "    sns.heatmap(cm, annot=True, fmt=\"d\", cmap=\"Blues\",\n",
        "                xticklabels=class_names,\n",
        "                yticklabels=class_names)\n",
        "    plt.title('Confusion Matrix')\n",
        "    plt.xlabel('Predicted Label')\n",
        "    plt.ylabel('True Label')\n",
        "    plt.show()\n",
        "\n",
        "print(\"✔ ② ヘルパー関数の定義完了\")"
      ]
    },
    {
      "cell_type": "code",
      "execution_count": 9,
      "id": "e599b783",
      "metadata": {
        "colab": {
          "base_uri": "https://localhost:8080/"
        },
        "id": "e599b783",
        "outputId": "66658495-981b-428a-d106-7e021c17e4aa"
      },
      "outputs": [
        {
          "output_type": "stream",
          "name": "stdout",
          "text": [
            "✔ ③ データパスとクラスグループ設定完了\n"
          ]
        }
      ],
      "source": [
        "# ✅ ③ データと保存先パスの定義\n",
        "data_path = '/content/data'\n",
        "group_list = group_list = [['battery', 'plastic', 'glass', 'metal', 'paper', 'organic']]\n",
        "\n",
        "saved_model_path = \"model_checkpoint.h5\"\n",
        "class_names_total = ['battery', 'plastic', 'glass', 'metal', 'paper', 'organic']\n",
        "\n",
        "print(\"✔ ③ データパスとクラスグループ設定完了\")\n"
      ]
    },
    {
      "cell_type": "code",
      "execution_count": 10,
      "id": "DJhvN0KPDTlB",
      "metadata": {
        "colab": {
          "base_uri": "https://localhost:8080/"
        },
        "id": "DJhvN0KPDTlB",
        "outputId": "d1e814ef-0699-4ddb-a314-95c4ad5586e2"
      },
      "outputs": [
        {
          "output_type": "stream",
          "name": "stdout",
          "text": [
            "📊 クラスごとの画像枚数:\n",
            " - battery: 3875枚\n",
            " - glass: 3875枚\n",
            " - metal: 3875枚\n",
            " - organic: 3875枚\n",
            " - paper: 3875枚\n",
            " - plastic: 3875枚\n"
          ]
        }
      ],
      "source": [
        "import os\n",
        "\n",
        "print(\"📊 クラスごとの画像枚数:\")\n",
        "for cls in sorted(os.listdir(data_path)):\n",
        "    cls_path = os.path.join(data_path, cls)\n",
        "    if os.path.isdir(cls_path):\n",
        "        num_imgs = len([\n",
        "            f for f in os.listdir(cls_path)\n",
        "            if f.lower().endswith(('.jpg', '.jpeg', '.png'))\n",
        "        ])\n",
        "        print(f\" - {cls}: {num_imgs}枚\")"
      ]
    },
    {
      "cell_type": "code",
      "execution_count": 13,
      "id": "2a2d25bb",
      "metadata": {
        "colab": {
          "base_uri": "https://localhost:8080/"
        },
        "id": "2a2d25bb",
        "outputId": "5de9cc83-03af-4f9f-fca9-9e86bbe08a15"
      },
      "outputs": [
        {
          "output_type": "stream",
          "name": "stdout",
          "text": [
            "🆕 新しいモデルを作成します...\n",
            "読み込み中: battery\n",
            "読み込み中: glass\n",
            "読み込み中: metal\n",
            "読み込み中: organic\n",
            "読み込み中: paper\n",
            "読み込み中: plastic\n"
          ]
        },
        {
          "output_type": "stream",
          "name": "stderr",
          "text": [
            "/usr/local/lib/python3.11/dist-packages/keras/src/layers/convolutional/base_conv.py:107: UserWarning: Do not pass an `input_shape`/`input_dim` argument to a layer. When using Sequential models, prefer using an `Input(shape)` object as the first layer in the model instead.\n",
            "  super().__init__(activity_regularizer=activity_regularizer, **kwargs)\n"
          ]
        },
        {
          "output_type": "stream",
          "name": "stdout",
          "text": [
            "\n",
            "=== グループ1/1: ['battery', 'plastic', 'glass', 'metal', 'paper', 'organic'] ===\n",
            "読み込み中: battery\n",
            "読み込み中: glass\n",
            "読み込み中: metal\n",
            "読み込み中: organic\n",
            "読み込み中: paper\n",
            "読み込み中: plastic\n",
            "Epoch 1/10\n",
            "\u001b[1m2325/2325\u001b[0m \u001b[32m━━━━━━━━━━━━━━━━━━━━\u001b[0m\u001b[37m\u001b[0m \u001b[1m151s\u001b[0m 64ms/step - accuracy: 0.4973 - loss: 1.2584 - val_accuracy: 0.6701 - val_loss: 0.8798\n",
            "Epoch 2/10\n",
            "\u001b[1m2325/2325\u001b[0m \u001b[32m━━━━━━━━━━━━━━━━━━━━\u001b[0m\u001b[37m\u001b[0m \u001b[1m201s\u001b[0m 63ms/step - accuracy: 0.7269 - loss: 0.7298 - val_accuracy: 0.7559 - val_loss: 0.6634\n",
            "Epoch 3/10\n",
            "\u001b[1m2325/2325\u001b[0m \u001b[32m━━━━━━━━━━━━━━━━━━━━\u001b[0m\u001b[37m\u001b[0m \u001b[1m214s\u001b[0m 68ms/step - accuracy: 0.8360 - loss: 0.4636 - val_accuracy: 0.8047 - val_loss: 0.5622\n",
            "Epoch 4/10\n",
            "\u001b[1m2325/2325\u001b[0m \u001b[32m━━━━━━━━━━━━━━━━━━━━\u001b[0m\u001b[37m\u001b[0m \u001b[1m191s\u001b[0m 64ms/step - accuracy: 0.8895 - loss: 0.3130 - val_accuracy: 0.8258 - val_loss: 0.5329\n",
            "Epoch 5/10\n",
            "\u001b[1m2325/2325\u001b[0m \u001b[32m━━━━━━━━━━━━━━━━━━━━\u001b[0m\u001b[37m\u001b[0m \u001b[1m203s\u001b[0m 64ms/step - accuracy: 0.9251 - loss: 0.2183 - val_accuracy: 0.8559 - val_loss: 0.4938\n",
            "Epoch 6/10\n",
            "\u001b[1m2325/2325\u001b[0m \u001b[32m━━━━━━━━━━━━━━━━━━━━\u001b[0m\u001b[37m\u001b[0m \u001b[1m199s\u001b[0m 63ms/step - accuracy: 0.9435 - loss: 0.1675 - val_accuracy: 0.8563 - val_loss: 0.4827\n",
            "Epoch 7/10\n",
            "\u001b[1m2325/2325\u001b[0m \u001b[32m━━━━━━━━━━━━━━━━━━━━\u001b[0m\u001b[37m\u001b[0m \u001b[1m202s\u001b[0m 63ms/step - accuracy: 0.9579 - loss: 0.1222 - val_accuracy: 0.8475 - val_loss: 0.5913\n",
            "Epoch 8/10\n",
            "\u001b[1m2325/2325\u001b[0m \u001b[32m━━━━━━━━━━━━━━━━━━━━\u001b[0m\u001b[37m\u001b[0m \u001b[1m146s\u001b[0m 63ms/step - accuracy: 0.9623 - loss: 0.1095 - val_accuracy: 0.8710 - val_loss: 0.5406\n",
            "Epoch 9/10\n",
            "\u001b[1m2325/2325\u001b[0m \u001b[32m━━━━━━━━━━━━━━━━━━━━\u001b[0m\u001b[37m\u001b[0m \u001b[1m147s\u001b[0m 63ms/step - accuracy: 0.9663 - loss: 0.0985 - val_accuracy: 0.8568 - val_loss: 0.6183\n",
            "Epoch 10/10\n",
            "\u001b[1m2325/2325\u001b[0m \u001b[32m━━━━━━━━━━━━━━━━━━━━\u001b[0m\u001b[37m\u001b[0m \u001b[1m202s\u001b[0m 63ms/step - accuracy: 0.9713 - loss: 0.0826 - val_accuracy: 0.8667 - val_loss: 0.6149\n"
          ]
        },
        {
          "output_type": "stream",
          "name": "stderr",
          "text": [
            "WARNING:absl:You are saving your model as an HDF5 file via `model.save()` or `keras.saving.save_model(model)`. This file format is considered legacy. We recommend using instead the native Keras format, e.g. `model.save('my_model.keras')` or `keras.saving.save_model(model, 'my_model.keras')`. \n"
          ]
        },
        {
          "output_type": "stream",
          "name": "stdout",
          "text": [
            "✔ モデル保存完了: /content/models/model_checkpoint.h5\n",
            "✔ モデルの段階学習完了\n"
          ]
        }
      ],
      "source": [
        "import os\n",
        "import gc\n",
        "import tensorflow.keras.backend as K\n",
        "from keras.models import load_model\n",
        "\n",
        "# ✅ モデル保存パスと再開インデックス\n",
        "saved_model_path = '/content/models/model_checkpoint.h5'\n",
        "start_index = 0\n",
        "\n",
        "# ✅ 既に保存済みモデルがあれば読み込んで続きから再開\n",
        "if os.path.exists(saved_model_path):\n",
        "    print(\"📂 既存モデルを読み込みます...\")\n",
        "    model = load_model(saved_model_path)\n",
        "    # Determine the last trained group index from the loaded model or a flag\n",
        "    # For now, let's assume we need to retrain all groups for simplicity\n",
        "    start_index = 0 # Reset to 0 to retrain from the beginning if needed, or implement logic to find the last trained group\n",
        "else:\n",
        "    print(\"🆕 新しいモデルを作成します...\")\n",
        "    # Load a dummy dataset for model creation to get input shape\n",
        "    # Load the first group to get the input shape for model creation\n",
        "    X_dummy, y_dummy, _ = load_images_from_folder(data_path, img_size=(64, 64), target_classes=group_list[0])\n",
        "    model = create_simple_model(input_shape=X_dummy.shape[1:], num_classes=len(class_names_total))\n",
        "    del X_dummy, y_dummy\n",
        "    gc.collect()\n",
        "\n",
        "# Initialize X_test and y_test outside the loop\n",
        "X_test = None\n",
        "y_test = None\n",
        "\n",
        "# ✅ 学習ループ\n",
        "for i, group in enumerate(group_list[start_index:], start=start_index):\n",
        "    print(f\"\\n=== グループ{i+1}/{len(group_list)}: {group} ===\")\n",
        "\n",
        "    # Load data for the current group\n",
        "    X, y, current_class_names = load_images_from_folder(data_path, img_size=(64, 64), target_classes=group)\n",
        "\n",
        "    # Split data\n",
        "    X_train, X_test_current, y_train, y_test_current = train_test_split(X, y, test_size=0.2, stratify=y, random_state=42)\n",
        "\n",
        "    # Assign the last split to X_test and y_test\n",
        "    X_test = X_test_current\n",
        "    y_test = y_test_current\n",
        "\n",
        "    model.compile(optimizer='adam', loss='sparse_categorical_crossentropy', metrics=['accuracy'])\n",
        "\n",
        "    history = model.fit(\n",
        "        X_train, y_train,\n",
        "        validation_data=(X_test, y_test), # Use the assigned X_test and y_test for validation\n",
        "        epochs=10,\n",
        "        batch_size=8,  # 👈 ここでメモリ対策も兼ねておくと安全\n",
        "        verbose=1\n",
        "    )\n",
        "\n",
        "    # Create the directory if it doesn't exist\n",
        "    os.makedirs(os.path.dirname(saved_model_path), exist_ok=True)\n",
        "    model.save(saved_model_path)\n",
        "    print(f\"✔ モデル保存完了: {saved_model_path}\")\n",
        "\n",
        "    # メモリ開放 (keep X_test and y_test)\n",
        "    del X, y, X_train, y_train, X_test_current, y_test_current\n",
        "    K.clear_session()\n",
        "    gc.collect()\n",
        "\n",
        "print(\"✔ モデルの段階学習完了\")"
      ]
    },
    {
      "cell_type": "code",
      "execution_count": 14,
      "id": "dp5zyLByD6nv",
      "metadata": {
        "colab": {
          "base_uri": "https://localhost:8080/",
          "height": 17
        },
        "id": "dp5zyLByD6nv",
        "outputId": "22f06d15-5e42-484c-90b6-293dbccf626b"
      },
      "outputs": [
        {
          "output_type": "display_data",
          "data": {
            "text/plain": [
              "<IPython.core.display.Javascript object>"
            ],
            "application/javascript": [
              "\n",
              "    async function download(id, filename, size) {\n",
              "      if (!google.colab.kernel.accessAllowed) {\n",
              "        return;\n",
              "      }\n",
              "      const div = document.createElement('div');\n",
              "      const label = document.createElement('label');\n",
              "      label.textContent = `Downloading \"${filename}\": `;\n",
              "      div.appendChild(label);\n",
              "      const progress = document.createElement('progress');\n",
              "      progress.max = size;\n",
              "      div.appendChild(progress);\n",
              "      document.body.appendChild(div);\n",
              "\n",
              "      const buffers = [];\n",
              "      let downloaded = 0;\n",
              "\n",
              "      const channel = await google.colab.kernel.comms.open(id);\n",
              "      // Send a message to notify the kernel that we're ready.\n",
              "      channel.send({})\n",
              "\n",
              "      for await (const message of channel.messages) {\n",
              "        // Send a message to notify the kernel that we're ready.\n",
              "        channel.send({})\n",
              "        if (message.buffers) {\n",
              "          for (const buffer of message.buffers) {\n",
              "            buffers.push(buffer);\n",
              "            downloaded += buffer.byteLength;\n",
              "            progress.value = downloaded;\n",
              "          }\n",
              "        }\n",
              "      }\n",
              "      const blob = new Blob(buffers, {type: 'application/binary'});\n",
              "      const a = document.createElement('a');\n",
              "      a.href = window.URL.createObjectURL(blob);\n",
              "      a.download = filename;\n",
              "      div.appendChild(a);\n",
              "      a.click();\n",
              "      div.remove();\n",
              "    }\n",
              "  "
            ]
          },
          "metadata": {}
        },
        {
          "output_type": "display_data",
          "data": {
            "text/plain": [
              "<IPython.core.display.Javascript object>"
            ],
            "application/javascript": [
              "download(\"download_b8719a50-51f9-49c1-b08d-cfca18eb61e5\", \"model_backup.zip\", 8647881)"
            ]
          },
          "metadata": {}
        }
      ],
      "source": [
        "import shutil\n",
        "from google.colab import files\n",
        "\n",
        "# モデルフォルダを zip に\n",
        "shutil.make_archive('/content/model_backup', 'zip', '/content/models')\n",
        "\n",
        "# ダウンロードリンク\n",
        "files.download('/content/model_backup.zip')"
      ]
    },
    {
      "cell_type": "code",
      "execution_count": 15,
      "id": "408ad22b",
      "metadata": {
        "colab": {
          "base_uri": "https://localhost:8080/",
          "height": 424
        },
        "id": "408ad22b",
        "outputId": "8bf0615a-3fa1-4c1b-eda9-78fee62f8b06"
      },
      "outputs": [
        {
          "output_type": "display_data",
          "data": {
            "text/plain": [
              "<Figure size 1200x400 with 2 Axes>"
            ],
            "image/png": "[encoded data removed]"
          },
          "metadata": {}
        },
        {
          "output_type": "stream",
          "name": "stdout",
          "text": [
            "✔ ⑨ 訓練履歴のプロット完了\n"
          ]
        }
      ],
      "source": [
        "# ✅ ⑨ 学習曲線の表示\n",
        "plot_training_history(history)\n",
        "print(\"✔ ⑨ 訓練履歴のプロット完了\")"
      ]
    },
    {
      "cell_type": "code",
      "execution_count": 19,
      "id": "1330cfb4",
      "metadata": {
        "colab": {
          "base_uri": "https://localhost:8080/"
        },
        "id": "1330cfb4",
        "outputId": "bb93b819-6510-4dfe-cae9-f8520c74bdc1"
      },
      "outputs": [
        {
          "output_type": "stream",
          "name": "stderr",
          "text": [
            "WARNING:absl:You are saving your model as an HDF5 file via `model.save()` or `keras.saving.save_model(model)`. This file format is considered legacy. We recommend using instead the native Keras format, e.g. `model.save('my_model.keras')` or `keras.saving.save_model(model, 'my_model.keras')`. \n"
          ]
        },
        {
          "output_type": "stream",
          "name": "stdout",
          "text": [
            "💾 モデル保存: models/simple_garbage_model_6class.h5\n",
            "💾 クラス名保存: models/class_names_6class.json\n",
            "✔ ⑩ モデルとクラス名の保存完了\n"
          ]
        }
      ],
      "source": [
        "# ✅ ⑩ モデルとクラス名の保存\n",
        "os.makedirs('models', exist_ok=True)\n",
        "model_save_path = 'models/simple_garbage_model_6class.h5'\n",
        "model.save(model_save_path)\n",
        "\n",
        "class_names_path = 'models/class_names_6class.json'\n",
        "with open(class_names_path, 'w', encoding='utf-8') as f:\n",
        "    json.dump(class_names_total, f, ensure_ascii=False)\n",
        "\n",
        "print(f\"💾 モデル保存: {model_save_path}\")\n",
        "print(f\"💾 クラス名保存: {class_names_path}\")\n",
        "print(\"✔ ⑩ モデルとクラス名の保存完了\")"
      ]
    },
    {
      "cell_type": "code",
      "execution_count": 18,
      "id": "oWZHx-YrkIEM",
      "metadata": {
        "colab": {
          "base_uri": "https://localhost:8080/",
          "height": 17
        },
        "id": "oWZHx-YrkIEM",
        "outputId": "d352af4e-d23d-40b5-cf9c-8952e6803ae4"
      },
      "outputs": [
        {
          "output_type": "display_data",
          "data": {
            "text/plain": [
              "<IPython.core.display.Javascript object>"
            ],
            "application/javascript": [
              "\n",
              "    async function download(id, filename, size) {\n",
              "      if (!google.colab.kernel.accessAllowed) {\n",
              "        return;\n",
              "      }\n",
              "      const div = document.createElement('div');\n",
              "      const label = document.createElement('label');\n",
              "      label.textContent = `Downloading \"${filename}\": `;\n",
              "      div.appendChild(label);\n",
              "      const progress = document.createElement('progress');\n",
              "      progress.max = size;\n",
              "      div.appendChild(progress);\n",
              "      document.body.appendChild(div);\n",
              "\n",
              "      const buffers = [];\n",
              "      let downloaded = 0;\n",
              "\n",
              "      const channel = await google.colab.kernel.comms.open(id);\n",
              "      // Send a message to notify the kernel that we're ready.\n",
              "      channel.send({})\n",
              "\n",
              "      for await (const message of channel.messages) {\n",
              "        // Send a message to notify the kernel that we're ready.\n",
              "        channel.send({})\n",
              "        if (message.buffers) {\n",
              "          for (const buffer of message.buffers) {\n",
              "            buffers.push(buffer);\n",
              "            downloaded += buffer.byteLength;\n",
              "            progress.value = downloaded;\n",
              "          }\n",
              "        }\n",
              "      }\n",
              "      const blob = new Blob(buffers, {type: 'application/binary'});\n",
              "      const a = document.createElement('a');\n",
              "      a.href = window.URL.createObjectURL(blob);\n",
              "      a.download = filename;\n",
              "      div.appendChild(a);\n",
              "      a.click();\n",
              "      div.remove();\n",
              "    }\n",
              "  "
            ]
          },
          "metadata": {}
        },
        {
          "output_type": "display_data",
          "data": {
            "text/plain": [
              "<IPython.core.display.Javascript object>"
            ],
            "application/javascript": [
              "download(\"download_6d3d453c-2455-4051-bca2-0bb3b32e4132\", \"simple_garbage_model_6class.h5\", 9911640)"
            ]
          },
          "metadata": {}
        },
        {
          "output_type": "display_data",
          "data": {
            "text/plain": [
              "<IPython.core.display.Javascript object>"
            ],
            "application/javascript": [
              "\n",
              "    async function download(id, filename, size) {\n",
              "      if (!google.colab.kernel.accessAllowed) {\n",
              "        return;\n",
              "      }\n",
              "      const div = document.createElement('div');\n",
              "      const label = document.createElement('label');\n",
              "      label.textContent = `Downloading \"${filename}\": `;\n",
              "      div.appendChild(label);\n",
              "      const progress = document.createElement('progress');\n",
              "      progress.max = size;\n",
              "      div.appendChild(progress);\n",
              "      document.body.appendChild(div);\n",
              "\n",
              "      const buffers = [];\n",
              "      let downloaded = 0;\n",
              "\n",
              "      const channel = await google.colab.kernel.comms.open(id);\n",
              "      // Send a message to notify the kernel that we're ready.\n",
              "      channel.send({})\n",
              "\n",
              "      for await (const message of channel.messages) {\n",
              "        // Send a message to notify the kernel that we're ready.\n",
              "        channel.send({})\n",
              "        if (message.buffers) {\n",
              "          for (const buffer of message.buffers) {\n",
              "            buffers.push(buffer);\n",
              "            downloaded += buffer.byteLength;\n",
              "            progress.value = downloaded;\n",
              "          }\n",
              "        }\n",
              "      }\n",
              "      const blob = new Blob(buffers, {type: 'application/binary'});\n",
              "      const a = document.createElement('a');\n",
              "      a.href = window.URL.createObjectURL(blob);\n",
              "      a.download = filename;\n",
              "      div.appendChild(a);\n",
              "      a.click();\n",
              "      div.remove();\n",
              "    }\n",
              "  "
            ]
          },
          "metadata": {}
        },
        {
          "output_type": "display_data",
          "data": {
            "text/plain": [
              "<IPython.core.display.Javascript object>"
            ],
            "application/javascript": [
              "download(\"download_ce7e897f-77f9-4275-862d-c747b8be0cba\", \"class_names_6class.json\", 60)"
            ]
          },
          "metadata": {}
        }
      ],
      "source": [
        "from google.colab import files\n",
        "\n",
        "# モデルファイルをダウンロード\n",
        "files.download('models/simple_garbage_model_6class.h5')\n",
        "\n",
        "# クラス名ファイルをダウンロード\n",
        "files.download('models/class_names_6class.json')"
      ]
    },
    {
      "cell_type": "code",
      "source": [
        "from sklearn.utils.multiclass import unique_labels\n",
        "from sklearn.metrics import classification_report\n",
        "\n",
        "# ✅ ⑪ テスト評価・混同行列\n",
        "if X_test is not None and y_test is not None:\n",
        "    # 評価\n",
        "    final_loss, final_accuracy = model.evaluate(X_test, y_test, verbose=0)\n",
        "    print(f\"🎯 最終テスト損失: {final_loss:.4f}\")\n",
        "    print(f\"🎯 最終テスト精度: {final_accuracy:.2%}\")\n",
        "\n",
        "    # ✅ 予測\n",
        "    y_pred_probs = model.predict(X_test)\n",
        "    y_pred_classes = y_pred_probs.argmax(axis=1)\n",
        "\n",
        "    # クラス名の一致確認\n",
        "    labels = unique_labels(y_test, y_pred_classes)\n",
        "    target_names_subset = [class_names_total[i] for i in labels]\n",
        "\n",
        "    # 分類レポート\n",
        "    print(\"\\n📊 分類レポート:\")\n",
        "    print(classification_report(y_test, y_pred_classes, labels=labels, target_names=target_names_subset))\n",
        "\n",
        "    # 混同行列（plot_confusion_matrix が定義されている場合）\n",
        "    print(\"\\n📊 混同行列:\")\n",
        "    plot_confusion_matrix(y_test, y_pred_classes, target_names_subset)\n",
        "else:\n",
        "    print(\"⚠️ X_test または y_test が未定義です。\")\n"
      ],
      "metadata": {
        "colab": {
          "base_uri": "https://localhost:8080/",
          "height": 988
        },
        "id": "_jdjx_ADCSu5",
        "outputId": "4ee0ab9f-c404-489d-8ee0-a9d7887a2cd5"
      },
      "id": "_jdjx_ADCSu5",
      "execution_count": 21,
      "outputs": [
        {
          "output_type": "stream",
          "name": "stdout",
          "text": [
            "🎯 最終テスト損失: 0.6149\n",
            "🎯 最終テスト精度: 86.67%\n",
            "\u001b[1m146/146\u001b[0m \u001b[32m━━━━━━━━━━━━━━━━━━━━\u001b[0m\u001b[37m\u001b[0m \u001b[1m9s\u001b[0m 56ms/step\n",
            "\n",
            "📊 分類レポート:\n",
            "              precision    recall  f1-score   support\n",
            "\n",
            "     battery       0.92      0.93      0.92       775\n",
            "     plastic       0.79      0.86      0.82       775\n",
            "       glass       0.85      0.81      0.83       775\n",
            "       metal       0.91      0.94      0.92       775\n",
            "       paper       0.91      0.82      0.86       775\n",
            "     organic       0.83      0.83      0.83       775\n",
            "\n",
            "    accuracy                           0.87      4650\n",
            "   macro avg       0.87      0.87      0.87      4650\n",
            "weighted avg       0.87      0.87      0.87      4650\n",
            "\n",
            "\n",
            "📊 混同行列:\n"
          ]
        },
        {
          "output_type": "display_data",
          "data": {
            "text/plain": [
              "<Figure size 800x700 with 2 Axes>"
            ],
            "image/png": "[encoded data removed]"
          },
          "metadata": {}
        }
      ]
    }
  ],
  "metadata": {
    "colab": {
      "provenance": [],
      "include_colab_link": true
    },
    "kernelspec": {
      "display_name": "venv",
      "language": "python",
      "name": "python3"
    },
    "language_info": {
      "codemirror_mode": {
        "name": "ipython",
        "version": 3
      },
      "file_extension": ".py",
      "mimetype": "text/x-python",
      "name": "python",
      "nbconvert_exporter": "python",
      "pygments_lexer": "ipython3",
      "version": "3.9.21"
    }
  },
  "nbformat": 4,
  "nbformat_minor": 5
}